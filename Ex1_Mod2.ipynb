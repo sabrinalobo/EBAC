{
  "nbformat": 4,
  "nbformat_minor": 0,
  "metadata": {
    "colab": {
      "name": "Ex1-Mod2.ipynb",
      "provenance": [],
      "collapsed_sections": [],
      "authorship_tag": "ABX9TyMlCqD6bEKwJSmaPubJCVU5",
      "include_colab_link": true
    },
    "kernelspec": {
      "name": "python3",
      "display_name": "Python 3"
    },
    "language_info": {
      "name": "python"
    }
  },
  "cells": [
    {
      "cell_type": "markdown",
      "metadata": {
        "id": "view-in-github",
        "colab_type": "text"
      },
      "source": [
        "<a href=\"https://colab.research.google.com/github/sabrinalobo/EBAC/blob/main/Ex1_Mod2.ipynb\" target=\"_parent\"><img src=\"https://colab.research.google.com/assets/colab-badge.svg\" alt=\"Open In Colab\"/></a>"
      ]
    },
    {
      "cell_type": "code",
      "metadata": {
        "id": "rNBLuAl3VS_t"
      },
      "source": [
        "#Ex1 - Mod2\n",
        "\n",
        "lista_filmes_2021 = ['Um Sonho de Liberdade (1994)', \n",
        "                'O Poderoso Chefão (1972)',\n",
        "                'O Poderoso Chefão II (1974)',\n",
        "                'Batman: O Cavaleiro das Trevas (2008)',\n",
        "                '12 Homens e uma Sentença (1957)', \n",
        "                'A Lista de Schindler (1993)',\n",
        "                'O Senhor dos Anéis: O Retorno do Rei (2003)',\n",
        "                'Pulp Fiction: Tempo de Violência (1994)',\n",
        "                'Três Homens em Conflito (1966)',\n",
        "                'O Senhor dos Anéis: A Sociedade do Anel (2001)']\n",
        "\n",
        "print(lista_filmes_2021)\n",
        "print(type(lista_filmes_2021))\n",
        "\n",
        "#Inserir um novo elemento sem substituir\n",
        "lista_filmes_2021.insert (2,'Harry Potter e o Enigma do Príncipe (2009)')\n",
        "print(lista_filmes_2021)\n",
        "\n",
        "#Inserir elemento no final da lista\n",
        "lista_filmes_2021.append ('Titanic (1997)')\n",
        "print(lista_filmes)\n",
        "\n",
        "#Remover elemento pelo valor\n",
        "lista_filmes_2021.remove ('Pulp Fiction: Tempo de Violência (1994)')\n",
        "print(lista_filmes_2021)\n",
        "\n",
        "#Remover elemento pelo indice\n",
        "lista_filmes_2021.pop (6)\n",
        "print(lista_filmes_2021)\n",
        "\n"
      ],
      "execution_count": null,
      "outputs": []
    },
    {
      "cell_type": "code",
      "metadata": {
        "colab": {
          "base_uri": "https://localhost:8080/"
        },
        "id": "Q8I7uWKOG5im",
        "outputId": "2371838a-ae46-4efd-b3dd-416b1dbd4eb4"
      },
      "source": [
        "#Ex2 - Mod2\n",
        "\n",
        "lista_filmes_2020 = {'Guerra das Estrelas (1977)', \n",
        "                'O Poderoso Chefão (1972)',\n",
        "                'O Poderoso Chefão (1972)',\n",
        "                'O Poderoso Chefão II (1974)',\n",
        "                'Batman: O Cavaleiro das Trevas (2008)',\n",
        "                '12 Homens e uma Sentença (1957)', \n",
        "                'Parasita (2019)',\n",
        "                'O Senhor dos Anéis: O Retorno do Rei (2003)',\n",
        "                'O Senhor dos Anéis: O Retorno do Rei (2003)',\n",
        "                'Wall-e (2008)',\n",
        "                'Intocáveis (2011)',\n",
        "                'O Senhor dos Anéis: A Sociedade do Anel (2001)'}\n",
        "\n",
        "lista_filmes_2021 = {'Um Sonho de Liberdade (1994)', \n",
        "                'O Poderoso Chefão (1972)',\n",
        "                'O Poderoso Chefão II (1974)',\n",
        "                'Batman: O Cavaleiro das Trevas (2008)',\n",
        "                '12 Homens e uma Sentença (1957)', \n",
        "                'A Lista de Schindler (1993)',\n",
        "                'O Senhor dos Anéis: O Retorno do Rei (2003)',\n",
        "                'Pulp Fiction: Tempo de Violência (1994)',\n",
        "                'Três Homens em Conflito (1966)',\n",
        "                'O Senhor dos Anéis: A Sociedade do Anel (2001)'}\n",
        "\n",
        "#print(lista_filmes_2020 + lista_filmes_2021)\n",
        "\n",
        "#Set\n",
        "\n",
        "lista_filmes = lista_filmes_2021 - lista_filmes_2020\n",
        "\n",
        "print(lista_filmes)\n",
        "\n"
      ],
      "execution_count": 22,
      "outputs": [
        {
          "output_type": "stream",
          "text": [
            "{'A Lista de Schindler (1993)', 'Pulp Fiction: Tempo de Violência (1994)', 'Um Sonho de Liberdade (1994)', 'Três Homens em Conflito (1966)'}\n"
          ],
          "name": "stdout"
        }
      ]
    },
    {
      "cell_type": "code",
      "metadata": {
        "colab": {
          "base_uri": "https://localhost:8080/"
        },
        "id": "VWHA_zJCLaUE",
        "outputId": "1c56285d-fca7-47ca-e432-020388aae4c9"
      },
      "source": [
        "filmes = {'Nome': 'Um Sonho de Liberdade', 'Ano': 1994, 'Sinopse': 'Andy Dufresne é condenado a duas prisões perpétuas consecutivas pelas mortes de sua esposa e de seu amante. Porém, só Andy sabe que ele não cometeu os crimes. No presídio, durante dezenove anos, ele faz amizade com Red, sofre as brutalidades da vida na cadeia, se adapta, ajuda os carcereiros, etc.',\n",
        "          'Nome': 'O Poderoso Chefão', 'Ano': 1972, 'Sinopse': 'Uma família mafiosa luta para estabelecer sua supremacia nos Estados Unidos depois da Segunda Guerra Mundial. Uma tentativa de assassinato deixa o chefão Vito Corleone incapacitado e força os filhos Michael e Sonny a assumir os negócios.',\n",
        "          'Nome': 'O Poderoso Chefão II','Ano': 1974, 'Sinopse': 'Após a máfia matar sua família, o jovem Vito foge da sua cidade na Sicília e vai para a América. Vito luta para manter sua família. Ele mata Black Hand Fanucci, que exigia dos comerciantes uma parte dos seus ganhos. Com a morte de Fanucci, o poderio de Vito cresce, mas sua família é o que mais importa para ele. Agora baseado no Lago Tahoe, Michael planeja fazer incursões em Las Vegas e Havana instalando negócios ligados ao lazer, mas descobre que aliados como Hyman Roth estão tentando matá-lo.'}\n",
        "\n",
        "print(filmes)\n",
        "\n",
        "\n"
      ],
      "execution_count": 27,
      "outputs": [
        {
          "output_type": "stream",
          "text": [
            "{'Nome': 'O Poderoso Chefão II', 'Ano': 1974, 'Sinopse': 'Após a máfia matar sua família, o jovem Vito foge da sua cidade na Sicília e vai para a América. Vito luta para manter sua família. Ele mata Black Hand Fanucci, que exigia dos comerciantes uma parte dos seus ganhos. Com a morte de Fanucci, o poderio de Vito cresce, mas sua família é o que mais importa para ele. Agora baseado no Lago Tahoe, Michael planeja fazer incursões em Las Vegas e Havana instalando negócios ligados ao lazer, mas descobre que aliados como Hyman Roth estão tentando matá-lo.'}\n"
          ],
          "name": "stdout"
        }
      ]
    }
  ]
}