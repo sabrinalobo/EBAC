{
  "nbformat": 4,
  "nbformat_minor": 0,
  "metadata": {
    "colab": {
      "name": "Exercício_Modulo1.ipynb",
      "provenance": [],
      "collapsed_sections": [],
      "authorship_tag": "ABX9TyOvAPfZ6aDT0hEbPE5+IdjX",
      "include_colab_link": true
    },
    "kernelspec": {
      "name": "python3",
      "display_name": "Python 3"
    },
    "language_info": {
      "name": "python"
    }
  },
  "cells": [
    {
      "cell_type": "markdown",
      "metadata": {
        "id": "view-in-github",
        "colab_type": "text"
      },
      "source": [
        "<a href=\"https://colab.research.google.com/github/sabrinalobo/EBAC/blob/main/Exerc%C3%ADcio_Modulo1.ipynb\" target=\"_parent\"><img src=\"https://colab.research.google.com/assets/colab-badge.svg\" alt=\"Open In Colab\"/></a>"
      ]
    },
    {
      "cell_type": "code",
      "metadata": {
        "id": "-kfRSf3k7KY0"
      },
      "source": [
        "#Questao_1\n",
        "print ('Olá Mundo')"
      ],
      "execution_count": null,
      "outputs": []
    },
    {
      "cell_type": "code",
      "metadata": {
        "id": "AfT3Dlcd7YYb"
      },
      "source": [
        "#Questao_2\n",
        "\n",
        "#Dia 19\n",
        "stv_19 = None\n",
        "qtv_19 = 3\n",
        "tkm_19 = 320.52\n",
        "\n",
        "stv_19 = tkm_19 * qtv_19\n",
        "stv_19 = str(stv_19)\n",
        "print ('O valor de A é ' + stv_19)\n",
        "\n",
        "#Dia 20\n",
        "stv_20 = 834.47\n",
        "qtv_20 = None\n",
        "tkm_20 = 119.21\n",
        "\n",
        "qtv_20 = stv_20 / tkm_20\n",
        "qtv_20 = str(qtv_20)\n",
        "print ('O valor de B é ' + qtv_20)\n",
        "\n",
        "#Dia 23\n",
        "stv_23 = 15378.12\n",
        "qtv_23 = 5\n",
        "tkm_23 = None\n",
        "\n",
        "tkm_23 = stv_23 / qtv_23 \n",
        "tkm_23 = str (tkm_23)\n",
        "print ('O valor de C é ' + tkm_23)\n",
        "\n",
        "\n"
      ],
      "execution_count": null,
      "outputs": []
    },
    {
      "cell_type": "code",
      "metadata": {
        "id": "Bi29b8c0B9p1"
      },
      "source": [
        "#Questão 3\n",
        "#3 métodos diferentes\n",
        "\n",
        "cancao = 'Roda mundo, Roda gigante, Roda moinho, Roda piao'\n",
        "\n",
        "cancao_ajustada = (cancao.replace('Roda', 'Gira'))\n",
        "print (cancao_ajustada)\n",
        "\n",
        "posicao = str(cancao_ajustada.find('moinho'))\n",
        "print ('A posição da palavra MOINHO é: ' + posicao+'° posição') \n",
        "\n",
        "print (cancao_ajustada.upper())"
      ],
      "execution_count": null,
      "outputs": []
    },
    {
      "cell_type": "code",
      "metadata": {
        "id": "tBKrjLowDp2a"
      },
      "source": [
        "#Taxa Selic\n",
        "\n",
        "noticia = 'Selic vai a 2,75% e supera expectativas; é a primeira em 6 anos. '\n",
        "\n",
        "ano = str (2021 - 6)\n",
        "valor_taxa = str(noticia [12:17])\n",
        "\n",
        "print ('O valor da taxa Selic é de '+ valor_taxa + ' desde o ano ' + ano)\n"
      ],
      "execution_count": null,
      "outputs": []
    },
    {
      "cell_type": "code",
      "metadata": {
        "colab": {
          "base_uri": "https://localhost:8080/"
        },
        "id": "om6rW1AgHcal",
        "outputId": "841b8cda-593b-46cb-de41-992b3425d29b"
      },
      "source": [
        "#Questao 4\n",
        "\n",
        "a = False\n",
        "b = True\n",
        "\n",
        "x = not a & b \n",
        "print (x) \n",
        "\n",
        "\n"
      ],
      "execution_count": 57,
      "outputs": [
        {
          "output_type": "stream",
          "text": [
            "True\n"
          ],
          "name": "stdout"
        }
      ]
    }
  ]
}